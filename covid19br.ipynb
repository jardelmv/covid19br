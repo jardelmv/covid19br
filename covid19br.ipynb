{
 "cells": [
  {
   "cell_type": "code",
   "execution_count": 1,
   "id": "379474a0-bf41-409d-9801-fedb55230ee9",
   "metadata": {},
   "outputs": [],
   "source": [
    "import pandas as pd\n",
    "import matplotlib.pyplot as plt\n",
    "import numpy as np\n",
    "from datetime import date, timedelta, datetime"
   ]
  },
  {
   "cell_type": "code",
   "execution_count": 2,
   "id": "fe45c4c6-eed2-4a31-83ba-5a7c38f37818",
   "metadata": {},
   "outputs": [],
   "source": [
    "pop_covid_csv = pd.read_csv(\"caso_full.csv\") #https://brasil.io/dataset/covid19/caso_full/"
   ]
  },
  {
   "cell_type": "code",
   "execution_count": 3,
   "id": "640c19a2-7c3e-485a-81f6-a2acc60e6852",
   "metadata": {},
   "outputs": [],
   "source": [
    "pop_covid = pop_covid_csv[(pop_covid_csv['place_type'] == 'city') & pop_covid_csv[\"city_ibge_code\"].notna() ]\n",
    "pop_covid = pop_covid[['date', 'state', 'city', 'estimated_population_2019', 'last_available_deaths']]\n",
    "pop_covid['city'] = pop_covid['city'].str.replace(\"\\'\", \" \")\n",
    "pop_covid['city'] = pop_covid['city'].str.upper()\n",
    "pop_covid['sizes'] = pop_covid['estimated_population_2019']/1e3 + 2\n",
    "pop_covid = pop_covid.sort_values(['estimated_population_2019'], ascending=False)\n",
    "pop_covid['death_per_million'] = pop_covid.apply (lambda row: 1e6*row['last_available_deaths']/row['estimated_population_2019'], axis=1)"
   ]
  },
  {
   "cell_type": "code",
   "execution_count": 4,
   "id": "beefd530-28ba-4a59-966d-f6605fb5a596",
   "metadata": {},
   "outputs": [],
   "source": [
    "eleicao_csv = pd.read_csv(\"votacao_partido_munzona_2018_BRASIL.csv\", sep=';', encoding='latin1') #https://cdn.tse.jus.br/estatistica/sead/odsele/votacao_partido_munzona/votacao_partido_munzona_2018.zip"
   ]
  },
  {
   "cell_type": "code",
   "execution_count": 5,
   "id": "d185bc53-a411-413f-8dd5-82382d8b2d50",
   "metadata": {},
   "outputs": [],
   "source": [
    "eleicao = eleicao_csv[ (eleicao_csv.NR_TURNO != 1) & (eleicao_csv.DS_CARGO == 'Presidente') & (eleicao_csv.SG_UF != 'ZZ')]\n",
    "eleicao = eleicao[['SG_UF', 'NM_MUNICIPIO', 'NR_PARTIDO', 'QT_VOTOS_NOMINAIS']]\n",
    "eleicao = pd.pivot_table(eleicao, index=['SG_UF','NM_MUNICIPIO'], columns='NR_PARTIDO', aggfunc=np.sum)\n",
    "eleicao = eleicao.reindex(eleicao['QT_VOTOS_NOMINAIS'].sort_values(by=17,ascending=False).index)\n",
    "eleicao = pd.DataFrame(eleicao.to_records()).rename(columns={\"SG_UF\":\"state\", \"NM_MUNICIPIO\":\"city\", \"('QT_VOTOS_NOMINAIS', 13)\":'13',\"('QT_VOTOS_NOMINAIS', 17)\":'17'})\n",
    "eleicao['rate_17'] = eleicao.apply ( lambda row: row['17']/(row['13']+row['17']), axis=1 )\n",
    "eleicao['partido'] = eleicao.apply ( lambda row: '17' if (row['rate_17']>=0.50) else '13', axis=1 )\n",
    "eleicao['colors'] = eleicao.apply (lambda row: int(1e2*row['rate_17']), axis=1)"
   ]
  },
  {
   "cell_type": "code",
   "execution_count": 6,
   "id": "2b5a4c02-f8bb-42a1-b0c5-b5840f26d84e",
   "metadata": {},
   "outputs": [],
   "source": [
    "pop_covid_eleicao = pd.merge(pop_covid, eleicao, on=['state', 'city'], how='left')\n",
    "pop_covid_eleicao = pop_covid_eleicao[pop_covid_eleicao['partido'].notna()]"
   ]
  },
  {
   "cell_type": "code",
   "execution_count": 7,
   "id": "aa29c243-b087-494b-bb44-60d62b1087cf",
   "metadata": {},
   "outputs": [],
   "source": [
    "df = pop_covid_eleicao \n",
    "df['sizes'] = df['estimated_population_2019']/4e4 + 2"
   ]
  },
  {
   "cell_type": "code",
   "execution_count": null,
   "id": "a58de63a-5a7c-4b9d-a642-e7e135fde3ff",
   "metadata": {},
   "outputs": [],
   "source": [
    "last = True # True to render only the first and the last frame, False to render all\n",
    "if last:\n",
    "    dates = [datetime.strptime('2020-2-25', '%Y-%m-%d'),datetime.strptime('2021-5-27', '%Y-%m-%d')]\n",
    "else:\n",
    "    dates = pd.date_range(start='2020-2-25', end='2021-5-27',freq='d')\n",
    "\n",
    "for dt in dates:\n",
    "    d = dt.strftime('%Y-%m-%d')\n",
    "    dd = dt.strftime('%d/%m/%Y')\n",
    "    ddate = df[ (df[\"date\"] == d)]\n",
    "    #dg = ddate[ddate['city'] == 'SÃO PAULO'] #filter a city\n",
    "    dg = ddate[ddate['last_available_deaths'] > 0]\n",
    "    dpm = 1e6*dg.groupby(['partido'])['last_available_deaths'].sum()/dg.groupby(['partido'])['estimated_population_2019'].sum()\n",
    "    \n",
    "    fig, ax = plt.subplots(figsize=(4.5, 6), dpi=200)\n",
    "    ax.axis([-0.1, 0.99, -500, 5500])\n",
    "    ax.get_yaxis().set_visible(False)\n",
    "    ax.get_xaxis().set_visible(False)\n",
    "    ax.set(facecolor='black')\n",
    "    \n",
    "    eixo_x = ax.text(0.50, 0.01, \"votos no governo atual\" , verticalalignment='bottom', horizontalalignment='center', transform=ax.transAxes, color='whitesmoke', fontsize=9,  weight=\"bold\")\n",
    "    pcts = ['10%','50%','90%']\n",
    "    pos = [0.1, 0.5, 0.9]\n",
    "    for p in range(len(pcts)):\n",
    "         ax.text(pos[p], 0.04, pcts[p] , verticalalignment='bottom', horizontalalignment='center', transform=ax.transAxes, color='whitesmoke', fontsize=8)\n",
    "    \n",
    "    \n",
    "    eixo_y = ax.text(0.05, 0.35, \"Mortes por Milhão de Habitantes\", verticalalignment='bottom', horizontalalignment='center', transform=ax.transAxes, color='whitesmoke', fontsize=6, rotation=90)\n",
    "    ys = [4000,3000,2000,1000]\n",
    "    for y in ys:\n",
    "        ax.text(0.1, y/5000, str(y), verticalalignment='bottom', horizontalalignment='center', transform=ax.transAxes, color='whitesmoke', fontsize=4, weight=\"bold\")\n",
    "    \n",
    "    tit = ax.text(0.5, 0.93, \"Covid-19 nos Municípios Brasileiros\", verticalalignment='bottom', horizontalalignment='center', transform=ax.transAxes, color='whitesmoke', fontsize=11)\n",
    "    tit.set_bbox(dict(facecolor='black', alpha=0.75, edgecolor='none'))    \n",
    "    day = ax.text(0.50, 0.87, dd , verticalalignment='bottom', horizontalalignment='center', transform=ax.transAxes, color='whitesmoke', fontsize=12)\n",
    "    day.set_bbox(dict(facecolor='black', alpha=0.75, edgecolor='none'))\n",
    "\n",
    "    ax.scatter(dg['rate_17'], dg['death_per_million'], s=dg['sizes'], c=dg['colors'], cmap='RdYlGn', alpha=0.75)    \n",
    "    \n",
    "    cidades = ['Manaus','Salvador','Rio de Janeiro','Belo Horizonte', 'São Paulo', 'Uberlândia', 'Porto Alegre']\n",
    "    #cidades = []\n",
    "    for cidade in cidades:\n",
    "        c=cidade.upper()\n",
    "        d1 = dg.loc[dg['city'] == c]\n",
    "        if not(d1.empty): \n",
    "            d1 = d1.reset_index(drop=True).at[0,'death_per_million']\n",
    "            if d1 >= 300:\n",
    "                x1 = dg.loc[dg['city'] == c].reset_index(drop=True).at[0,'rate_17']-0.02\n",
    "                y1 = d1/5500+0.0\n",
    "                t1 = ax.text(x1,y1,c,verticalalignment='center', horizontalalignment='center', transform=ax.transAxes, color='white', fontsize=5, weight=\"bold\")\n",
    "                t1.set_bbox(dict(facecolor='black', alpha=0.25, edgecolor='none'))\n",
    "\n",
    "    #mortes por milhão dois grupos\n",
    "    dpm = 1e6*dg.groupby(['partido'])['last_available_deaths'].sum()/dg.groupby(['partido'])['estimated_population_2019'].sum()\n",
    "    dpm = dpm.to_frame()\n",
    "    tot = 0\n",
    "    if not(dpm.empty):\n",
    "        dpm[0] = dpm[0].apply(lambda x: int(x) if x == x else \"\")\n",
    "        if '13' in dpm.index:\n",
    "            dpm13 = dpm.loc['13']\n",
    "            tot = tot + dpm13[0]\n",
    "            a13 = dpm13[0]/5500\n",
    "            if a13 > 0.09:\n",
    "                t13 = ax.text(0.2,a13, str(dpm13[0])+'\\n$^{^{mortes\\ por\\ milhão}}$', verticalalignment='bottom', horizontalalignment='center', transform=ax.transAxes, color='whitesmoke', fontsize=10)\n",
    "                t13.set_bbox(dict(facecolor='darkred', alpha=0.65, edgecolor='none'))\n",
    "        if '17' in dpm.index:\n",
    "            dpm17 = dpm.loc['17']\n",
    "            tot = tot + dpm13[0]\n",
    "            a17 = dpm17[0]/5500\n",
    "            if a17 > 0.09:\n",
    "                t17 = ax.text(0.8,a17, str(dpm17[0])+'\\n$^{^{mortes\\ por\\ milhão}}$', verticalalignment='bottom', horizontalalignment='center', transform=ax.transAxes, color='whitesmoke', fontsize=10)\n",
    "                t17.set_bbox(dict(facecolor='darkgreen', alpha=0.65, edgecolor='none'))\n",
    "\n",
    "    if not(last) :\n",
    "        fig.savefig('covid5/graf' + d + '.png')\n",
    "        plt.close(fig)\n",
    "    print('graf' + d + '.png')"
   ]
  },
  {
   "cell_type": "code",
   "execution_count": null,
   "id": "3d9f5d18-e029-4414-97b8-76916ac323a1",
   "metadata": {},
   "outputs": [],
   "source": []
  },
  {
   "cell_type": "code",
   "execution_count": null,
   "id": "7aa4b745-1a0f-429e-a1d5-14363cc7c12b",
   "metadata": {},
   "outputs": [],
   "source": []
  }
 ],
 "metadata": {
  "kernelspec": {
   "display_name": "Python 3",
   "language": "python",
   "name": "python3"
  },
  "language_info": {
   "codemirror_mode": {
    "name": "ipython",
    "version": 3
   },
   "file_extension": ".py",
   "mimetype": "text/x-python",
   "name": "python",
   "nbconvert_exporter": "python",
   "pygments_lexer": "ipython3",
   "version": "3.9.1"
  }
 },
 "nbformat": 4,
 "nbformat_minor": 5
}
